{
 "cells": [
  {
   "cell_type": "markdown",
   "id": "e5bbf6eb-17a7-40f1-9875-4b6a6d81fd40",
   "metadata": {},
   "source": [
    "# Data Science Tools and Ecosystem"
   ]
  },
  {
   "cell_type": "markdown",
   "id": "62aab8ae-3a40-463d-b286-e5d56cd84e33",
   "metadata": {},
   "source": [
    "In this notebook, Data Science Tools and Ecosystem are summarized."
   ]
  },
  {
   "cell_type": "markdown",
   "id": "9397d0b7-9333-4b29-ad9a-b65ffc52538d",
   "metadata": {},
   "source": [
    "**Objectives:**\n",
    "\n",
    "* Introduce Data Science Tools and Ecosystem\n",
    "* List popular languages for Data Science\n",
    "* List popular libraries for Data Science\n",
    "* Introduce Data Science Tools\n",
    "* Demonstrate basic arithmetic operations in Python"
   ]
  },
  {
   "cell_type": "markdown",
   "id": "dfd71826-67b4-4698-9098-e38d975df60f",
   "metadata": {},
   "source": [
    "## Author\n",
    "\n",
    "Huynh Phan Chau Anh\n"
   ]
  },
  {
   "cell_type": "markdown",
   "id": "7cf9b0b1-cdae-464d-86ad-84ff2a12028a",
   "metadata": {},
   "source": [
    "Some of the popular languages that Data Scientists use are:\n",
    "\n",
    "1. Python\n",
    "2. R\n",
    "3. SQL"
   ]
  },
  {
   "cell_type": "markdown",
   "id": "f4b3b8c2-9a64-4536-b46a-3070a2b8c4b8",
   "metadata": {},
   "source": [
    "Some of the commonly used libraries used by Data Scientists include:\n",
    "\n",
    "1. **NumPy:** For numerical operations and array manipulation.\n",
    "2. **Pandas:** For data analysis and manipulation.\n",
    "3. **Matplotlib:** For data visualization.\n",
    "4. **Scikit-learn:** For machine learning algorithms."
   ]
  },
  {
   "cell_type": "markdown",
   "id": "403130ac-b388-4a7d-a178-07bed8f02d12",
   "metadata": {},
   "source": [
    "| Data Science Tools      |\n",
    "|--------------------------|\n",
    "| Jupyter Notebook         |\n",
    "| RStudio                  |\n",
    "| Apache Zeppelin          |\n"
   ]
  },
  {
   "cell_type": "markdown",
   "id": "ce288d65-8ea4-4f0e-b565-b581d1ebb7ca",
   "metadata": {},
   "source": [
    "### Below are a few examples of evaluating arithmetic expressions in Python.\n"
   ]
  },
  {
   "cell_type": "code",
   "execution_count": 5,
   "id": "400d50b0-42bf-4825-a6e3-e16a08dc905d",
   "metadata": {},
   "outputs": [
    {
     "name": "stdout",
     "output_type": "stream",
     "text": [
      "17\n"
     ]
    }
   ],
   "source": [
    "# This is a simple arithmetic expression to multiply then add integers\n",
    "result = (3 * 4) + 5\n",
    "print(result)\n"
   ]
  },
  {
   "cell_type": "code",
   "execution_count": 6,
   "id": "7f952201-87d1-4790-b7e0-6883da018dfb",
   "metadata": {},
   "outputs": [
    {
     "name": "stdout",
     "output_type": "stream",
     "text": [
      "3.3333333333333335\n"
     ]
    }
   ],
   "source": [
    "# This will convert 200 minutes to hours by dividing by 60\n",
    "minutes = 200\n",
    "hours = minutes / 60\n",
    "print(hours)\n"
   ]
  },
  {
   "cell_type": "code",
   "execution_count": null,
   "id": "bb5e6e51-47e7-4e70-9704-ed0dca9ad97e",
   "metadata": {},
   "outputs": [],
   "source": []
  }
 ],
 "metadata": {
  "kernelspec": {
   "display_name": "Python 3 (ipykernel)",
   "language": "python",
   "name": "python3"
  },
  "language_info": {
   "codemirror_mode": {
    "name": "ipython",
    "version": 3
   },
   "file_extension": ".py",
   "mimetype": "text/x-python",
   "name": "python",
   "nbconvert_exporter": "python",
   "pygments_lexer": "ipython3",
   "version": "3.11.9"
  }
 },
 "nbformat": 4,
 "nbformat_minor": 5
}
